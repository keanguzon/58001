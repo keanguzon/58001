{
  "nbformat": 4,
  "nbformat_minor": 0,
  "metadata": {
    "colab": {
      "provenance": [],
      "authorship_tag": "ABX9TyMzHNvNe04JwQZ21T/2Abt3",
      "include_colab_link": true
    },
    "kernelspec": {
      "name": "python3",
      "display_name": "Python 3"
    },
    "language_info": {
      "name": "python"
    }
  },
  "cells": [
    {
      "cell_type": "markdown",
      "metadata": {
        "id": "view-in-github",
        "colab_type": "text"
      },
      "source": [
        "<a href=\"https://colab.research.google.com/github/keanguzon/OOP58001/blob/main/Lab_Activity_2.ipynb\" target=\"_parent\"><img src=\"https://colab.research.google.com/assets/colab-badge.svg\" alt=\"Open In Colab\"/></a>"
      ]
    },
    {
      "cell_type": "code",
      "execution_count": 25,
      "metadata": {
        "colab": {
          "base_uri": "https://localhost:8080/"
        },
        "id": "D8uduW5iqMUe",
        "outputId": "e09fc9d4-8e10-4a9d-8b85-0268fdea8546"
      },
      "outputs": [
        {
          "output_type": "stream",
          "name": "stdout",
          "text": [
            "25.13272 cm\n",
            "50.26544 cm\n"
          ]
        }
      ],
      "source": [
        "class Circle:\n",
        "    pi = 3.14159\n",
        "\n",
        "    def __init__(self, radius):\n",
        "      self.radius = radius\n",
        "  \n",
        "    def perimeter(self):\n",
        "      return 2 * Circle.pi * self.radius\n",
        "\n",
        "    def area(self):\n",
        "      return Circle.pi * self.radius ** 2\n",
        "\n",
        "    def display(self):\n",
        "      print(self.perimeter(),\"cm\")\n",
        "      print(self.area(),\"cm\")\n",
        "\n",
        "info = Circle(4)\n",
        "info.display()"
      ]
    }
  ]
}