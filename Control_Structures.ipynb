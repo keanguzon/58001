{
  "nbformat": 4,
  "nbformat_minor": 0,
  "metadata": {
    "colab": {
      "provenance": [],
      "authorship_tag": "ABX9TyPtNkRkWCUiqUyaGMrUKCK0",
      "include_colab_link": true
    },
    "kernelspec": {
      "name": "python3",
      "display_name": "Python 3"
    },
    "language_info": {
      "name": "python"
    }
  },
  "cells": [
    {
      "cell_type": "markdown",
      "metadata": {
        "id": "view-in-github",
        "colab_type": "text"
      },
      "source": [
        "<a href=\"https://colab.research.google.com/github/keanguzon/OOP58001/blob/main/Control_Structures.ipynb\" target=\"_parent\"><img src=\"https://colab.research.google.com/assets/colab-badge.svg\" alt=\"Open In Colab\"/></a>"
      ]
    },
    {
      "cell_type": "markdown",
      "source": [
        "If statement"
      ],
      "metadata": {
        "id": "KuCUJB5jEblr"
      }
    },
    {
      "cell_type": "code",
      "execution_count": null,
      "metadata": {
        "id": "IFymjfdsDrK0"
      },
      "outputs": [],
      "source": [
        "a=12\n",
        "b=100\n",
        "if b>a:\n",
        "  print(\"b is greater than a\")"
      ]
    },
    {
      "cell_type": "markdown",
      "source": [
        "Elif Statements"
      ],
      "metadata": {
        "id": "xMryYrGnFk7L"
      }
    },
    {
      "cell_type": "code",
      "source": [
        "a=12\n",
        "b=12\n",
        "if b>a:\n",
        "  print (\"b is greater than a\")\n",
        "elif a==b:\n",
        "  print (\"a and b are equal\")"
      ],
      "metadata": {
        "colab": {
          "base_uri": "https://localhost:8080/"
        },
        "id": "f65zzl57FnXy",
        "outputId": "b5977854-b6ae-4086-e2d2-37d9da73d2de"
      },
      "execution_count": null,
      "outputs": [
        {
          "output_type": "stream",
          "name": "stdout",
          "text": [
            "a and b are equal\n"
          ]
        }
      ]
    },
    {
      "cell_type": "markdown",
      "source": [
        "Else statements"
      ],
      "metadata": {
        "id": "UxZWSagFF_u7"
      }
    },
    {
      "cell_type": "code",
      "source": [
        "a=200\n",
        "b = 33\n",
        "if b>a:\n",
        "  print(\"b is greater than a\")\n",
        "elif a==b:\n",
        "  print (\"A AND B ARE EQUAL\")\n",
        "else: print (\"a is greater than b\")\n"
      ],
      "metadata": {
        "colab": {
          "base_uri": "https://localhost:8080/"
        },
        "id": "exoOb7sJGBkr",
        "outputId": "d477fbb8-4b3b-4cb7-8097-b6f46004421c"
      },
      "execution_count": null,
      "outputs": [
        {
          "output_type": "stream",
          "name": "stdout",
          "text": [
            "a is greater than b\n"
          ]
        }
      ]
    },
    {
      "cell_type": "markdown",
      "source": [
        "Short Hand If Statement"
      ],
      "metadata": {
        "id": "d4pbXz2YGVTq"
      }
    },
    {
      "cell_type": "code",
      "source": [
        "if a>b: print(\"a is greater than b\")"
      ],
      "metadata": {
        "colab": {
          "base_uri": "https://localhost:8080/"
        },
        "id": "c40b1emLGXsr",
        "outputId": "29490ad3-0892-4d98-c780-3a5cb9063dc2"
      },
      "execution_count": null,
      "outputs": [
        {
          "output_type": "stream",
          "name": "stdout",
          "text": [
            "a is greater than b\n"
          ]
        }
      ]
    },
    {
      "cell_type": "markdown",
      "source": [
        "Short hand if.. Else statement"
      ],
      "metadata": {
        "id": "rW94PeOlGcpD"
      }
    },
    {
      "cell_type": "code",
      "source": [
        "a=2\n",
        "b=330\n",
        "print(\"A\") if a > b else print (\"B\")"
      ],
      "metadata": {
        "colab": {
          "base_uri": "https://localhost:8080/"
        },
        "id": "ZRbM_WezGiBq",
        "outputId": "f06c3cc6-c7d1-4242-ec65-cbe3863fdb20"
      },
      "execution_count": null,
      "outputs": [
        {
          "output_type": "stream",
          "name": "stdout",
          "text": [
            "B\n"
          ]
        }
      ]
    },
    {
      "cell_type": "markdown",
      "source": [
        "And-both conditions are true"
      ],
      "metadata": {
        "id": "K_s60bIxGoCz"
      }
    },
    {
      "cell_type": "code",
      "source": [
        "a = 200\n",
        "b = 33\n",
        "c = 500\n",
        "if a > b and c > a:\n",
        "  print(\"Both conditions are True\")"
      ],
      "metadata": {
        "colab": {
          "base_uri": "https://localhost:8080/"
        },
        "id": "T-C-keyhGu6D",
        "outputId": "d5b1134a-c644-4b0c-8e04-55ab926c22c1"
      },
      "execution_count": null,
      "outputs": [
        {
          "output_type": "stream",
          "name": "stdout",
          "text": [
            "Both conditions are True\n"
          ]
        }
      ]
    },
    {
      "cell_type": "markdown",
      "source": [
        "Or-at least one of the conditionsis true"
      ],
      "metadata": {
        "id": "HY78ftjdG0vb"
      }
    },
    {
      "cell_type": "code",
      "source": [
        "a = 200\n",
        "b = 33\n",
        "c = 500\n",
        "if a > b or a > c:\n",
        "  print(\"At least one of the conditions is True\")"
      ],
      "metadata": {
        "colab": {
          "base_uri": "https://localhost:8080/"
        },
        "id": "mYUi-umuG6U7",
        "outputId": "3851032d-a169-48ca-97ff-f408aec2e748"
      },
      "execution_count": null,
      "outputs": [
        {
          "output_type": "stream",
          "name": "stdout",
          "text": [
            "At least one of the conditions is True\n"
          ]
        }
      ]
    },
    {
      "cell_type": "markdown",
      "source": [
        "Nested If"
      ],
      "metadata": {
        "id": "7iOBVIf9G-Dq"
      }
    },
    {
      "cell_type": "code",
      "source": [
        "x=41\n",
        "if x>10:\n",
        "  print(\"x is above ten\")\n",
        "if x>20:\n",
        "  print(\"and also above twenty\")\n",
        "if x>30:\n",
        "  print(\"and also above thirty\")\n",
        "if x>40:\n",
        "  print(\"and also above forty\")\n",
        "if x<50:\n",
        "  print(\"but below fifty\")"
      ],
      "metadata": {
        "colab": {
          "base_uri": "https://localhost:8080/"
        },
        "id": "I-zaAqMzG_2S",
        "outputId": "ab165c8d-8303-48fa-9188-ed80be5acced"
      },
      "execution_count": 40,
      "outputs": [
        {
          "output_type": "stream",
          "name": "stdout",
          "text": [
            "x is above ten\n",
            "and also above twenty\n",
            "and also above thirty\n",
            "and also above forty\n",
            "but below fifty\n"
          ]
        }
      ]
    },
    {
      "cell_type": "markdown",
      "source": [
        "Example 1"
      ],
      "metadata": {
        "id": "ZvQyuvpUIFg3"
      }
    },
    {
      "cell_type": "code",
      "source": [
        "x = int (input())\n",
        "if x >= 18:\n",
        "    print(\"You are eligible to vote.\")\n",
        "else:\n",
        "    print(\"You are not eligible to vote.\")\n"
      ],
      "metadata": {
        "colab": {
          "base_uri": "https://localhost:8080/"
        },
        "id": "f2KowAbtIHFw",
        "outputId": "361a0a41-8172-4c76-ba64-6cf43f47d1b1"
      },
      "execution_count": 18,
      "outputs": [
        {
          "output_type": "stream",
          "name": "stdout",
          "text": [
            "18\n",
            "You are eligible to vote.\n"
          ]
        }
      ]
    },
    {
      "cell_type": "markdown",
      "source": [
        "Example 2"
      ],
      "metadata": {
        "id": "M3KjCPRsJadI"
      }
    },
    {
      "cell_type": "code",
      "source": [
        "x = int(input())\n",
        "if x > 0:\n",
        "    print(\"POSITIVE\")\n",
        "elif x < 0:\n",
        "    print(\"NEGATIVE\")\n",
        "else:\n",
        "    print(\"ZERO\")"
      ],
      "metadata": {
        "colab": {
          "base_uri": "https://localhost:8080/"
        },
        "id": "lyTffhsaIOFR",
        "outputId": "a2edfbca-f8bb-4062-a38a-1588aad7f577"
      },
      "execution_count": 19,
      "outputs": [
        {
          "output_type": "stream",
          "name": "stdout",
          "text": [
            "21\n",
            "POSITIVE\n"
          ]
        }
      ]
    },
    {
      "cell_type": "markdown",
      "source": [
        "Example 3"
      ],
      "metadata": {
        "id": "lcpart18Jvw4"
      }
    },
    {
      "cell_type": "code",
      "source": [
        "x = float(input(\"Enter your grade: \"))\n",
        "if x < 0 or x > 100:\n",
        "    print(\"Invalid grade.\")\n",
        "elif x >= 70:\n",
        "    print(\"PASSED\")\n",
        "elif x >= 65:\n",
        "    print(\"REMEDIAL\")\n",
        "else:\n",
        "    print(\"FAILED\")"
      ],
      "metadata": {
        "colab": {
          "base_uri": "https://localhost:8080/"
        },
        "id": "Vzv5Ba_jODUB",
        "outputId": "a3e6d852-dded-4089-b645-f5dedd961175"
      },
      "execution_count": 39,
      "outputs": [
        {
          "output_type": "stream",
          "name": "stdout",
          "text": [
            "Enter your grade: -123\n",
            "Invalid grade.\n"
          ]
        }
      ]
    }
  ]
}