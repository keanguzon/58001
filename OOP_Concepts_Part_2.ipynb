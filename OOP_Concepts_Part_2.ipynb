{
  "nbformat": 4,
  "nbformat_minor": 0,
  "metadata": {
    "colab": {
      "provenance": [],
      "authorship_tag": "ABX9TyMGIcpCacMMT3G0OoqfKAPs",
      "include_colab_link": true
    },
    "kernelspec": {
      "name": "python3",
      "display_name": "Python 3"
    },
    "language_info": {
      "name": "python"
    }
  },
  "cells": [
    {
      "cell_type": "markdown",
      "metadata": {
        "id": "view-in-github",
        "colab_type": "text"
      },
      "source": [
        "<a href=\"https://colab.research.google.com/github/keanguzon/OOP58001/blob/main/OOP_Concepts_Part_2.ipynb\" target=\"_parent\"><img src=\"https://colab.research.google.com/assets/colab-badge.svg\" alt=\"Open In Colab\"/></a>"
      ]
    },
    {
      "cell_type": "code",
      "source": [
        "vulture = Birds(\"Griffon Vulture\")\n",
        "crane = Birds(\"Common Crane\")\n",
        "emu = Birds(\"Emu\")\n",
        "\n",
        "vulture.flying_birds()\n",
        "crane.flying_birds()\n",
        "emu.non_flying_birds()"
      ],
      "metadata": {
        "colab": {
          "base_uri": "https://localhost:8080/"
        },
        "id": "gZh4PTlUaNNS",
        "outputId": "4165ff57-0826-4311-ee6d-ed6e34fc11b0"
      },
      "execution_count": 17,
      "outputs": [
        {
          "output_type": "stream",
          "name": "stdout",
          "text": [
            "Griffon Vulture flies above clouds\n",
            "Common Crane flies above clouds\n",
            "Emu is the national bird of the Philippines.\n"
          ]
        }
      ]
    },
    {
      "cell_type": "code",
      "source": [
        "class Birds:\n",
        "  def __init__ (self, bird_name):\n",
        "    self.bird_name = bird_name\n",
        "  def flying_birds(self):\n",
        "    print (f\"{self.bird_name} flies above clouds\")\n",
        "  def non_flying_birds(self):\n",
        "      print (f\"{self.bird_name} is the national bird of the Philippines.\")\n"
      ],
      "metadata": {
        "id": "DdsAjm2nXjsZ"
      },
      "execution_count": 20,
      "outputs": []
    },
    {
      "cell_type": "code",
      "source": [
        "class foo:\n",
        "  def __init__(self, a, b):\n",
        "    self.a = a\n",
        "    self.b = b\n",
        "  def add(self):\n",
        "    return self.a + self.b\n",
        "foo_object = foo(3,4)\n",
        "foo_object.add()"
      ],
      "metadata": {
        "colab": {
          "base_uri": "https://localhost:8080/"
        },
        "id": "-r2YFqqUaYK4",
        "outputId": "2401e417-fca9-4294-f9ea-7be3ea75adda"
      },
      "execution_count": 21,
      "outputs": [
        {
          "output_type": "execute_result",
          "data": {
            "text/plain": [
              "7"
            ]
          },
          "metadata": {},
          "execution_count": 21
        }
      ]
    },
    {
      "cell_type": "code",
      "source": [
        "#Encapsulation\n",
        "class foo:\n",
        "  def __init__(self, a, b):\n",
        "    self.__a = a\n",
        "    self.__b = b\n",
        "  def add(self):\n",
        "    return self.__a + self.__b\n",
        "\n",
        "foo_object = foo(3,4)\n",
        "foo_object.add()\n",
        "foo_object.a = 5\n",
        "foo_object.add()"
      ],
      "metadata": {
        "colab": {
          "base_uri": "https://localhost:8080/"
        },
        "id": "oFNrLx0Uaga_",
        "outputId": "45647b9c-c447-4d6c-b1e7-94ca6fdf7107"
      },
      "execution_count": 24,
      "outputs": [
        {
          "output_type": "execute_result",
          "data": {
            "text/plain": [
              "7"
            ]
          },
          "metadata": {},
          "execution_count": 24
        }
      ]
    },
    {
      "cell_type": "code",
      "source": [
        "#Inheritance\n",
        "\n",
        "class Person:\n",
        "  def __init__ (self,name, birthdate):\n",
        "    self.name = name\n",
        "    self.birthdate = birthdate\n",
        "  def display (self):\n",
        "    print (f\"My name is\",self.name)\n",
        "    print (f\"My birthdate is\", self.birthdate)\n",
        "class Student (Person):\n",
        "  pass\n",
        "class Teacher (Person):\n",
        "  pass\n",
        "\n",
        "student = Student (\"Kean\",\"June 10 2004\")\n",
        "student.display()\n",
        "teacher = Teacher(\"Lorenzo\", \"February 31 1860\")\n",
        "teacher.display()"
      ],
      "metadata": {
        "colab": {
          "base_uri": "https://localhost:8080/"
        },
        "id": "_RaIzt37f6tY",
        "outputId": "3de20b20-4f59-4a05-d722-dfd9b4814c19"
      },
      "execution_count": 32,
      "outputs": [
        {
          "output_type": "stream",
          "name": "stdout",
          "text": [
            "My name is Kean\n",
            "My birthdate is June 10 2004\n",
            "My name is Lorenzo\n",
            "My birthdate is February 31 1860\n"
          ]
        }
      ]
    },
    {
      "cell_type": "code",
      "source": [
        "#create a class name shapes (5 shapes)\n",
        "#attributes sides\n",
        "#create a function/method that displays the no. of sides of each shape\n",
        "#apply inheritance and encapsulation\n",
        "class Shapes:\n",
        "  def __init__ (self,shape, sides):\n",
        "    self.__shape = shape\n",
        "    self.__sides = sides\n",
        "  def display (self):\n",
        "    print (f\"The shape\",self.__shape)\n",
        "    print(f\"has\",self.__sides)\n",
        "class Triangle(Shapes):\n",
        "  pass\n",
        "class Square(Shapes):\n",
        "  pass\n",
        "class Pentagon(Shapes):\n",
        "  pass\n",
        "class Hexagon(Shapes):\n",
        "  pass\n",
        "class Heptagon(Shapes):\n",
        "  pass\n",
        "\n",
        "triangle = Triangle(\"Triangle\", \"3 sides\")\n",
        "triangle.display()\n",
        "square = Square(\"Square\", \"4 sides\")\n",
        "square.display()\n",
        "pentagon = Pentagon(\"Pentagon\", \"5 sides\")\n",
        "pentagon.display()\n",
        "hexagon = Hexagon(\"Hexagon\", \"6 sides\")\n",
        "hexagon.display()\n",
        "heptagon = Heptagon(\"Heptagon\", \"7 sides\")\n",
        "heptagon.display()"
      ],
      "metadata": {
        "colab": {
          "base_uri": "https://localhost:8080/"
        },
        "id": "l4QM_St5lIOL",
        "outputId": "e6618e83-1599-4d23-c98c-3f144d6218ea"
      },
      "execution_count": 50,
      "outputs": [
        {
          "output_type": "stream",
          "name": "stdout",
          "text": [
            "The shape Triangle\n",
            "has 3 sides\n",
            "The shape Square\n",
            "has 4 sides\n",
            "The shape Pentagon\n",
            "has 5 sides\n",
            "The shape Hexagon\n",
            "has 6 sides\n",
            "The shape Heptagon\n",
            "has 7 sides\n"
          ]
        }
      ]
    }
  ]
}