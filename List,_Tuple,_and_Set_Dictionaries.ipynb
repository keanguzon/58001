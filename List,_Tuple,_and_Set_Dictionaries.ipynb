{
  "nbformat": 4,
  "nbformat_minor": 0,
  "metadata": {
    "colab": {
      "provenance": [],
      "authorship_tag": "ABX9TyP7XWKqWCdJqw+iYYEj5L08",
      "include_colab_link": true
    },
    "kernelspec": {
      "name": "python3",
      "display_name": "Python 3"
    },
    "language_info": {
      "name": "python"
    }
  },
  "cells": [
    {
      "cell_type": "markdown",
      "metadata": {
        "id": "view-in-github",
        "colab_type": "text"
      },
      "source": [
        "<a href=\"https://colab.research.google.com/github/keanguzon/OOP58001/blob/main/List%2C_Tuple%2C_and_Set_Dictionaries.ipynb\" target=\"_parent\"><img src=\"https://colab.research.google.com/assets/colab-badge.svg\" alt=\"Open In Colab\"/></a>"
      ]
    },
    {
      "cell_type": "markdown",
      "source": [
        "Function"
      ],
      "metadata": {
        "id": "DUixAaTXR-Se"
      }
    },
    {
      "cell_type": "code",
      "execution_count": 1,
      "metadata": {
        "colab": {
          "base_uri": "https://localhost:8080/"
        },
        "id": "GMjkHafoQLQY",
        "outputId": "5750d6e0-4e2f-4760-f3f4-9d8f95db704d"
      },
      "outputs": [
        {
          "output_type": "execute_result",
          "data": {
            "text/plain": [
              "50"
            ]
          },
          "metadata": {},
          "execution_count": 1
        }
      ],
      "source": [
        "class shapes:\n",
        "  def __init__(self, length, width):\n",
        "    self.length = length\n",
        "    self.width = width\n",
        "  def area(self):\n",
        "    return self.length * self.width\n",
        "rectangle= shapes (10,5)\n",
        "rectangle.area()\n",
        "#rectangle"
      ]
    },
    {
      "cell_type": "code",
      "source": [
        "pow (10,2)\n",
        "array= [\"apple\", \"banana\", \"orange\"]\n",
        "array.insert (0, \"cherry\")\n",
        "print(array)"
      ],
      "metadata": {
        "colab": {
          "base_uri": "https://localhost:8080/"
        },
        "id": "GGXuPb-IQrq-",
        "outputId": "c7e44785-da07-4415-f1a7-a227efb9532f"
      },
      "execution_count": 2,
      "outputs": [
        {
          "output_type": "stream",
          "name": "stdout",
          "text": [
            "['cherry', 'apple', 'banana', 'orange']\n"
          ]
        }
      ]
    },
    {
      "cell_type": "code",
      "source": [
        "class shapes:\n",
        "  def __init__(self, side):\n",
        "    self.side = side\n",
        "  def arearec(self):\n",
        "    return self.length * self.width\n",
        "  def areasqr(self):\n",
        "    return self.side ** 2\n",
        "square = shapes(5)\n",
        "square.areasqr()\n",
        "#square"
      ],
      "metadata": {
        "colab": {
          "base_uri": "https://localhost:8080/"
        },
        "id": "awm3PjyWRZgf",
        "outputId": "71c9a53e-a8ec-49ee-839a-7177f36e26fe"
      },
      "execution_count": 3,
      "outputs": [
        {
          "output_type": "execute_result",
          "data": {
            "text/plain": [
              "25"
            ]
          },
          "metadata": {},
          "execution_count": 3
        }
      ]
    },
    {
      "cell_type": "code",
      "source": [
        "#Create your own function that will show your full name and age\n",
        "#use person as class name\n",
        "class person:\n",
        "    def __init__(self):\n",
        "        self.name = \"Kean Guzon\"\n",
        "        self.age = \"18\"\n",
        "    def show_info(self):\n",
        "        return \"I am \" + self.name + \", \" +  self.age + \" years old.\"\n",
        "person = person()\n",
        "print(person.show_info())\n",
        "\n"
      ],
      "metadata": {
        "colab": {
          "base_uri": "https://localhost:8080/"
        },
        "id": "dB8Io1cGR6CO",
        "outputId": "b064107e-da46-4776-91d2-1a572783f838"
      },
      "execution_count": 19,
      "outputs": [
        {
          "output_type": "stream",
          "name": "stdout",
          "text": [
            "I am Kean Guzon, 18 years old.\n"
          ]
        }
      ]
    }
  ]
}