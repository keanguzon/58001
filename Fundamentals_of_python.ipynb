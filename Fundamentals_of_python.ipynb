{
  "nbformat": 4,
  "nbformat_minor": 0,
  "metadata": {
    "colab": {
      "provenance": [],
      "authorship_tag": "ABX9TyP4GhRbIFj4wgFAhonzSCYg",
      "include_colab_link": true
    },
    "kernelspec": {
      "name": "python3",
      "display_name": "Python 3"
    },
    "language_info": {
      "name": "python"
    }
  },
  "cells": [
    {
      "cell_type": "markdown",
      "metadata": {
        "id": "view-in-github",
        "colab_type": "text"
      },
      "source": [
        "<a href=\"https://colab.research.google.com/github/keanguzon/OOP58001/blob/main/Fundamentals_of_python.ipynb\" target=\"_parent\"><img src=\"https://colab.research.google.com/assets/colab-badge.svg\" alt=\"Open In Colab\"/></a>"
      ]
    },
    {
      "cell_type": "markdown",
      "source": [
        "Indentation"
      ],
      "metadata": {
        "id": "tmGGjkRyRjNm"
      }
    },
    {
      "cell_type": "code",
      "source": [
        "if 5>2:\n",
        "  print(\"5>2\")"
      ],
      "metadata": {
        "colab": {
          "base_uri": "https://localhost:8080/"
        },
        "id": "pCb1Si0DRnv-",
        "outputId": "28cc7d3f-f6c4-4c38-adfa-a0bb34619ec1"
      },
      "execution_count": 3,
      "outputs": [
        {
          "output_type": "stream",
          "name": "stdout",
          "text": [
            "5>2\n"
          ]
        }
      ]
    },
    {
      "cell_type": "markdown",
      "source": [
        "Python Comment"
      ],
      "metadata": {
        "id": "sIsX63MQSW0G"
      }
    },
    {
      "cell_type": "code",
      "source": [
        "#This is a comment\n",
        "print(\"Hello World!\")"
      ],
      "metadata": {
        "colab": {
          "base_uri": "https://localhost:8080/"
        },
        "id": "u8EGNsVQSZ3m",
        "outputId": "af1ddb15-bb36-4125-9c1b-91fcd50825f1"
      },
      "execution_count": 4,
      "outputs": [
        {
          "output_type": "stream",
          "name": "stdout",
          "text": [
            "Hello World!\n"
          ]
        }
      ]
    },
    {
      "cell_type": "markdown",
      "source": [
        "Python Variable"
      ],
      "metadata": {
        "id": "hdVhOR3eStwt"
      }
    },
    {
      "cell_type": "code",
      "source": [
        "x=1\n",
        "#Single variable with multiple values\n",
        "array = [1,2,3]\n",
        "print (array)\n",
        "\n",
        "#Multiple variables with single value\n",
        "a = b= c= \"Kin\"\n",
        "print (a,b)\n",
        "print (b)\n",
        "print (c)"
      ],
      "metadata": {
        "colab": {
          "base_uri": "https://localhost:8080/"
        },
        "id": "jn7vLQXMTToU",
        "outputId": "682eaf96-c3f7-4378-c735-a9df5b6543d1"
      },
      "execution_count": 6,
      "outputs": [
        {
          "output_type": "stream",
          "name": "stdout",
          "text": [
            "[1, 2, 3]\n",
            "Kin Kin\n",
            "Kin\n",
            "Kin\n"
          ]
        }
      ]
    },
    {
      "cell_type": "markdown",
      "source": [
        "Casting"
      ],
      "metadata": {
        "id": "Sz-08pimVwKF"
      }
    },
    {
      "cell_type": "code",
      "source": [
        "n= print (4)\n",
        "print (n)\n"
      ],
      "metadata": {
        "colab": {
          "base_uri": "https://localhost:8080/"
        },
        "id": "6iCPZjTbVyUd",
        "outputId": "c821a7f5-bf4f-471a-c493-b2623652a131"
      },
      "execution_count": 10,
      "outputs": [
        {
          "output_type": "stream",
          "name": "stdout",
          "text": [
            "4\n",
            "None\n"
          ]
        }
      ]
    },
    {
      "cell_type": "markdown",
      "source": [
        "Type Function"
      ],
      "metadata": {
        "id": "1wil-TWvVW_e"
      }
    },
    {
      "cell_type": "code",
      "source": [
        "c = \"kin\"\n",
        "d = 5.6\n",
        "\n",
        "print (type(c))\n",
        "print (type(d))"
      ],
      "metadata": {
        "colab": {
          "base_uri": "https://localhost:8080/"
        },
        "id": "L4LcwtOkVYut",
        "outputId": "beb5b3cb-2093-4f65-f98b-11cc7558bc74"
      },
      "execution_count": 12,
      "outputs": [
        {
          "output_type": "stream",
          "name": "stdout",
          "text": [
            "<class 'str'>\n",
            "<class 'float'>\n"
          ]
        }
      ]
    }
  ]
}