{
  "nbformat": 4,
  "nbformat_minor": 0,
  "metadata": {
    "colab": {
      "provenance": [],
      "authorship_tag": "ABX9TyNtOELm019Wga4/n/PVsCsO",
      "include_colab_link": true
    },
    "kernelspec": {
      "name": "python3",
      "display_name": "Python 3"
    },
    "language_info": {
      "name": "python"
    }
  },
  "cells": [
    {
      "cell_type": "markdown",
      "metadata": {
        "id": "view-in-github",
        "colab_type": "text"
      },
      "source": [
        "<a href=\"https://colab.research.google.com/github/keanguzon/OOP58001/blob/main/Lab_Activity_1.ipynb\" target=\"_parent\"><img src=\"https://colab.research.google.com/assets/colab-badge.svg\" alt=\"Open In Colab\"/></a>"
      ]
    },
    {
      "cell_type": "code",
      "execution_count": 11,
      "metadata": {
        "colab": {
          "base_uri": "https://localhost:8080/"
        },
        "id": "vZr5z5VcNgCg",
        "outputId": "59fb38b6-a554-4df2-da12-c9472b735364"
      },
      "outputs": [
        {
          "output_type": "stream",
          "name": "stdout",
          "text": [
            "sum = 210\n",
            "Average = 10.5\n"
          ]
        }
      ],
      "source": [
        "n = 20\n",
        "total_numbers = n\n",
        "sum = 0\n",
        "average = 0\n",
        "while n >= 0:\n",
        "    sum += n\n",
        "    n -= 1\n",
        "average = sum / total_numbers\n",
        "print(\"sum =\", sum)\n",
        "print(\"Average =\", average)"
      ]
    }
  ]
}