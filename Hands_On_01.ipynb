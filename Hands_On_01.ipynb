{
  "nbformat": 4,
  "nbformat_minor": 0,
  "metadata": {
    "colab": {
      "provenance": [],
      "authorship_tag": "ABX9TyORn70cgFnzj8QCQfm/e1Gi",
      "include_colab_link": true
    },
    "kernelspec": {
      "name": "python3",
      "display_name": "Python 3"
    },
    "language_info": {
      "name": "python"
    }
  },
  "cells": [
    {
      "cell_type": "markdown",
      "metadata": {
        "id": "view-in-github",
        "colab_type": "text"
      },
      "source": [
        "<a href=\"https://colab.research.google.com/github/keanguzon/OOP58001/blob/main/Hands_On_01.ipynb\" target=\"_parent\"><img src=\"https://colab.research.google.com/assets/colab-badge.svg\" alt=\"Open In Colab\"/></a>"
      ]
    },
    {
      "cell_type": "code",
      "execution_count": 48,
      "metadata": {
        "colab": {
          "base_uri": "https://localhost:8080/"
        },
        "id": "qi48KMHsaENi",
        "outputId": "e49fe214-1721-42a7-e4fc-d3472df28462"
      },
      "outputs": [
        {
          "output_type": "stream",
          "name": "stdout",
          "text": [
            "Student 1's average grade is: 85.66666666666667\n",
            "Student 2's average grade is: 88.33333333333333\n",
            "Student 3's average grade is: 79.33333333333333\n"
          ]
        }
      ],
      "source": [
        "#Create a Python program that displays the name of three students (Student 1, Student 2, and Student 3) and their term grades\n",
        "#Create a class name Person and attributes - std1, std2, std3, pre,mid,fin\n",
        "#Compute the average of each term grade using Grade() method\n",
        "#Information about student's grades must be hidden from others\n",
        "class Person:\n",
        "    def __init__(self, std1, std2, std3, pre, mid, fin):\n",
        "        self.__std1 = std1\n",
        "        self.__std2 = std2\n",
        "        self.__std3 = std3\n",
        "        self.__pre = pre\n",
        "        self.__mid = mid\n",
        "        self.__fin = fin\n",
        "        \n",
        "    def grade(self):\n",
        "        std_avg = sum([self.__pre, self.__mid, self.__fin]) / 3 \n",
        "        print(f\"{self.__std1}'s average grade is: {std_avg}\")\n",
        "\n",
        "std1 = Person(\"Student 1\", \"\", \"\", 90, 93, 74 )\n",
        "std1.grade()\n",
        "\n",
        "std2 = Person(\"Student 2\" , \"\", \"\", 89, 98, 78)\n",
        "std2.grade()\n",
        "\n",
        "std3 = Person(\"Student 3\", \"\", \"\" ,76, 75, 87 )\n",
        "std3.grade()"
      ]
    }
  ]
}