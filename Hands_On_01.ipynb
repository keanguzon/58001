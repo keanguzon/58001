{
  "nbformat": 4,
  "nbformat_minor": 0,
  "metadata": {
    "colab": {
      "provenance": [],
      "authorship_tag": "ABX9TyMPTVt9/scqka+l28qyXlON",
      "include_colab_link": true
    },
    "kernelspec": {
      "name": "python3",
      "display_name": "Python 3"
    },
    "language_info": {
      "name": "python"
    }
  },
  "cells": [
    {
      "cell_type": "markdown",
      "metadata": {
        "id": "view-in-github",
        "colab_type": "text"
      },
      "source": [
        "<a href=\"https://colab.research.google.com/github/keanguzon/OOP58001/blob/main/Hands_On_01.ipynb\" target=\"_parent\"><img src=\"https://colab.research.google.com/assets/colab-badge.svg\" alt=\"Open In Colab\"/></a>"
      ]
    },
    {
      "cell_type": "code",
      "execution_count": 40,
      "metadata": {
        "colab": {
          "base_uri": "https://localhost:8080/"
        },
        "id": "qi48KMHsaENi",
        "outputId": "b3d9b7af-81ad-438c-c0cf-074c9c1bea9f"
      },
      "outputs": [
        {
          "output_type": "stream",
          "name": "stdout",
          "text": [
            "Student 1's average grade is: 86.66666666666667\n",
            "Student 2's average grade is: 76.0\n",
            "Student 3's average grade is: 83.0\n"
          ]
        }
      ],
      "source": [
        "#Create a Python program that displays the name of three students (Student 1, Student 2, and Student 3) and their term grades\n",
        "#Create a class name Person and attributes - std1, std2, std3, pre,mid,fin\n",
        "#Compute the average of each term grade using Grade() method\n",
        "#Information about student's grades must be hidden from others\n",
        "class Person:\n",
        "    def __init__(self, std1, std2, std3, pre, mid, fin):\n",
        "        self.__std1 = std1\n",
        "        self.__std2 = std2\n",
        "        self.__std3 = std3\n",
        "        self.__pre = pre\n",
        "        self.__mid = mid\n",
        "        self.__fin = fin\n",
        "        \n",
        "    def grade(self):\n",
        "        std_avg = sum([self.__pre, self.__mid, self.__fin]) / 3 \n",
        "        print(f\"{self.__std1}'s average grade is: {std_avg}\")\n",
        "\n",
        "std1 = Person(\"Student 1\", \"asdf\", \"asdf\" ,  90, 87, 83)\n",
        "std1.grade()\n",
        "std2 = Person(\"Student 2\", \"aasdf\", \"asdf\", 72, 74, 82)\n",
        "std2.grade()\n",
        "\n",
        "std3 = Person(\"Student 3\",\"asdf\", \"asdf\",  70, 85, 94)\n",
        "std3.grade()\n",
        "    "
      ]
    }
  ]
}